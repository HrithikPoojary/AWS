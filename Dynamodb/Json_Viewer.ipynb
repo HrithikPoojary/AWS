{
 "cells": [
  {
   "cell_type": "code",
   "execution_count": 8,
   "id": "ec845081",
   "metadata": {},
   "outputs": [
    {
     "name": "stdout",
     "output_type": "stream",
     "text": [
      "(\"{'Table': {'AttributeDefinitions': [{'AttributeName': 'Product_id', \"\n",
      " \"'AttributeType': 'S'}, {'AttributeName': 'Category', 'AttributeType': 'S'}], \"\n",
      " \"'TableName': 'Product', 'KeySchema': [{'AttributeName': 'Product_id', \"\n",
      " \"'KeyType': 'HASH'}, {'AttributeName': 'Category', 'KeyType': 'RANGE'}], \"\n",
      " \"'TableStatus': 'ACTIVE', 'CreationDateTime': datetime.datetime(2025, 10, 2, \"\n",
      " \"15, 49, 37, 925000, tzinfo=tzlocal()), 'ProvisionedThroughput': \"\n",
      " \"{'LastIncreaseDateTime': datetime.datetime(1970, 1, 1, 5, 30, \"\n",
      " \"tzinfo=tzlocal()), 'LastDecreaseDateTime': datetime.datetime(1970, 1, 1, 5, \"\n",
      " \"30, tzinfo=tzlocal()), 'NumberOfDecreasesToday': 0, 'ReadCapacityUnits': 1, \"\n",
      " \"'WriteCapacityUnits': 1}, 'TableSizeBytes': 0, 'ItemCount': 0, 'TableArn': \"\n",
      " \"'arn:aws:dynamodb:ddblocal:000000000000:table/Product', \"\n",
      " \"'DeletionProtectionEnabled': False}, 'ResponseMetadata': {'RequestId': \"\n",
      " \"'7f5675c9-1b5b-4884-9412-dd8595a606a8', 'HTTPStatusCode': 200, \"\n",
      " \"'HTTPHeaders': {'server': 'Jetty(12.0.14)', 'date': 'Thu, 02 Oct 2025 \"\n",
      " \"10:56:38 GMT', 'x-amzn-requestid': '7f5675c9-1b5b-4884-9412-dd8595a606a8', \"\n",
      " \"'content-type': 'application/x-amz-json-1.0', 'x-amz-crc32': '2585618510', \"\n",
      " \"'content-length': '613'}, 'RetryAttempts': 0}}\")\n"
     ]
    }
   ],
   "source": [
    "from pprint import pprint\n",
    "import pandas as pd #type:ignore\n",
    "import json\n",
    "\n",
    "with open('describe.json','r') as file:\n",
    "        data = json.load(file)\n",
    "\n",
    "pprint(data)\n",
    "\n",
    "# df = pd.read_json('describe.json',lines = True)\n",
    "# print(df)"
   ]
  }
 ],
 "metadata": {
  "kernelspec": {
   "display_name": "Python 3",
   "language": "python",
   "name": "python3"
  },
  "language_info": {
   "codemirror_mode": {
    "name": "ipython",
    "version": 3
   },
   "file_extension": ".py",
   "mimetype": "text/x-python",
   "name": "python",
   "nbconvert_exporter": "python",
   "pygments_lexer": "ipython3",
   "version": "3.12.10"
  }
 },
 "nbformat": 4,
 "nbformat_minor": 5
}
